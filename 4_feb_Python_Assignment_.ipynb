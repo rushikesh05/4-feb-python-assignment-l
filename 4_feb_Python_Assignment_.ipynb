{
  "nbformat": 4,
  "nbformat_minor": 0,
  "metadata": {
    "colab": {
      "provenance": []
    },
    "kernelspec": {
      "name": "python3",
      "display_name": "Python 3"
    },
    "language_info": {
      "name": "python"
    }
  },
  "cells": [
    {
      "cell_type": "markdown",
      "source": [
        "###Q1. Create a python program to sort the given list of tuples based on integer value using a lambda function. \n",
        "###[('Sachin Tendulkar', 34357), ('Ricky Ponting', 27483), ('Jack Kallis', 25534), ('Virat Kohli', 24936)]"
      ],
      "metadata": {
        "id": "6b76WYjjj_f-"
      }
    },
    {
      "cell_type": "code",
      "execution_count": 3,
      "metadata": {
        "colab": {
          "base_uri": "https://localhost:8080/"
        },
        "id": "BfrV1MCtjmHv",
        "outputId": "4e6c8dcf-dff1-4714-cca2-04bd26c0a498"
      },
      "outputs": [
        {
          "output_type": "stream",
          "name": "stdout",
          "text": [
            "[('Virat Kohli', 24936), ('Jack Kallis', 25534), ('Ricky Ponting', 27483), ('Sachin Tendulkar', 34357)]\n"
          ]
        }
      ],
      "source": [
        "lst = [('Sachin Tendulkar', 34357), ('Ricky Ponting', 27483), ('Jack Kallis', 25534), ('Virat Kohli', 24936)]\n",
        "\n",
        "sorted_lst = sorted(lst, key=lambda x: x[1])\n",
        "\n",
        "print(sorted_lst)\n"
      ]
    },
    {
      "cell_type": "markdown",
      "source": [
        "###Q2. Write a Python Program to find the squares of all the numbers in the given list of integers using lambda and map functions. [1, 2, 3, 4, 5, 6, 7, 8, 9, 10]"
      ],
      "metadata": {
        "id": "zyW6x45alGXd"
      }
    },
    {
      "cell_type": "code",
      "source": [
        "lst = [1, 2, 3, 4, 5, 6, 7, 8, 9, 10]\n",
        "\n",
        "sq = list(map(lambda x: x**2, lst))\n",
        "print(sq)\n"
      ],
      "metadata": {
        "colab": {
          "base_uri": "https://localhost:8080/"
        },
        "id": "QA9TfEVUkjkI",
        "outputId": "6e20d722-e9ce-4611-f92e-ba4a23085539"
      },
      "execution_count": 4,
      "outputs": [
        {
          "output_type": "stream",
          "name": "stdout",
          "text": [
            "[1, 4, 9, 16, 25, 36, 49, 64, 81, 100]\n"
          ]
        }
      ]
    },
    {
      "cell_type": "markdown",
      "source": [
        "###Q3. Write a python program to convert the given list of integers into a tuple of strings. Use map and lambda functions\n",
        "###Given String: [1, 2, 3, 4, 5, 6, 7, 8, 9, 10]\n",
        "###Expected output: ('1', '2', '3', '4', '5', '6', '7', '8' '9', '10')"
      ],
      "metadata": {
        "id": "U1HZ-acWlkhw"
      }
    },
    {
      "cell_type": "code",
      "source": [
        "lst = [1, 2, 3, 4, 5, 6, 7, 8, 9, 10]\n",
        "\n",
        "tuple_str = tuple(map(lambda x: str(x), lst))\n",
        "\n",
        "print(tuple_str)\n"
      ],
      "metadata": {
        "colab": {
          "base_uri": "https://localhost:8080/"
        },
        "id": "a0h3VqnMle5A",
        "outputId": "e4ceba25-8213-4ca8-deff-5e4db148ea72"
      },
      "execution_count": 5,
      "outputs": [
        {
          "output_type": "stream",
          "name": "stdout",
          "text": [
            "('1', '2', '3', '4', '5', '6', '7', '8', '9', '10')\n"
          ]
        }
      ]
    },
    {
      "cell_type": "markdown",
      "source": [
        "###Q4. Write a python program using reduce function to compute the product of a list containing numbers from 1 to 25."
      ],
      "metadata": {
        "id": "e2QSGd1tl5QX"
      }
    },
    {
      "cell_type": "code",
      "source": [
        "from functools import reduce\n",
        "\n",
        "lst = list(range(1, 26))\n",
        "\n",
        "product = reduce(lambda x, y: x * y, lst)\n",
        "\n",
        "print(product)\n"
      ],
      "metadata": {
        "colab": {
          "base_uri": "https://localhost:8080/"
        },
        "id": "7tqnfd3sl0U1",
        "outputId": "e3ca1f6d-3880-4408-e423-1a7576a777a3"
      },
      "execution_count": 9,
      "outputs": [
        {
          "output_type": "stream",
          "name": "stdout",
          "text": [
            "15511210043330985984000000\n"
          ]
        }
      ]
    },
    {
      "cell_type": "markdown",
      "source": [
        "###Q5. Write a python program to filter the numbers in a given list that are divisible by 2 and 3 using the filter function.\n",
        "####[2, 3, 6, 9, 27, 60, 90, 120, 55, 46]"
      ],
      "metadata": {
        "id": "jm3fOxbXmofE"
      }
    },
    {
      "cell_type": "code",
      "source": [
        "lst = [2, 3, 6, 9, 27, 60, 90, 120, 55, 46]\n",
        "\n",
        "result = list(filter(lambda x: x % 2 == 0 and x % 3 == 0, lst))\n",
        "\n",
        "print(result)\n"
      ],
      "metadata": {
        "colab": {
          "base_uri": "https://localhost:8080/"
        },
        "id": "oDyvH11CmYOT",
        "outputId": "7e8f842f-10a5-4b9a-fbfe-38a2be1579ba"
      },
      "execution_count": 10,
      "outputs": [
        {
          "output_type": "stream",
          "name": "stdout",
          "text": [
            "[6, 60, 90, 120]\n"
          ]
        }
      ]
    },
    {
      "cell_type": "markdown",
      "source": [
        "###Q6. Write a python program to find palindromes in the given list of strings using lambda and filter function.\n",
        "###['python', 'php', 'aba', 'radar', 'level']"
      ],
      "metadata": {
        "id": "KXhYCWpJm9u-"
      }
    },
    {
      "cell_type": "code",
      "source": [
        "lst = ['python', 'php', 'aba', 'radar', 'level']\n",
        "\n",
        "result = list(filter(lambda x: x == x[::-1], lst))\n",
        "\n",
        "print(result)\n"
      ],
      "metadata": {
        "colab": {
          "base_uri": "https://localhost:8080/"
        },
        "id": "8W_3mQ1jm4z0",
        "outputId": "7b7c0151-3448-46f8-862f-c5770cbe541a"
      },
      "execution_count": 11,
      "outputs": [
        {
          "output_type": "stream",
          "name": "stdout",
          "text": [
            "['php', 'aba', 'radar', 'level']\n"
          ]
        }
      ]
    },
    {
      "cell_type": "code",
      "source": [],
      "metadata": {
        "id": "kmSTqrjYnKO0"
      },
      "execution_count": null,
      "outputs": []
    }
  ]
}